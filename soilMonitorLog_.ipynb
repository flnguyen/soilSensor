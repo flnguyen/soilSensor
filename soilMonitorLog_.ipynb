{
 "cells": [
  {
   "cell_type": "code",
   "execution_count": 1,
   "metadata": {},
   "outputs": [],
   "source": [
    "import pyfirmata\n",
    "import serial\n",
    "import usb\n",
    "import time\n",
    "from serial.tools import list_ports\n",
    "import pandas as pd\n",
    "import matplotlib.pyplot as plt\n",
    "import matplotlib.dates as md\n",
    "#FLN"
   ]
  },
  {
   "cell_type": "code",
   "execution_count": 2,
   "metadata": {},
   "outputs": [],
   "source": [
    "# Objective\n",
    "# Connect to Arduino (set up with soil sensor)\n",
    "# Calibrate sensor by logging output data when:\n",
    "# Sensor dry\n",
    "# Sensor submerged"
   ]
  },
  {
   "cell_type": "code",
   "execution_count": 3,
   "metadata": {},
   "outputs": [],
   "source": [
    "vid=0x2341\n",
    "pid=0x0043\n",
    "SERIAL_RATE=115200\n",
    "SERIAL_PORT='/dev/tty.usbmodem14101'"
   ]
  },
  {
   "cell_type": "code",
   "execution_count": 4,
   "metadata": {},
   "outputs": [],
   "source": [
    "# Connect to ardunio\n",
    "ser=serial.Serial(SERIAL_PORT, \n",
    "                  SERIAL_RATE, \n",
    "                  timeout=3, \n",
    "                  stopbits=serial.STOPBITS_ONE, \n",
    "                  bytesize=serial.EIGHTBITS, \n",
    "                  xonxoff=0, rtscts=0)\n",
    "ser.close()"
   ]
  },
  {
   "cell_type": "code",
   "execution_count": 5,
   "metadata": {},
   "outputs": [
    {
     "name": "stdout",
     "output_type": "stream",
     "text": [
      "14:14:15\n",
      "14:19:15\n"
     ]
    }
   ],
   "source": [
    "# Run and read data from sensor for 'timeout' seconds\n",
    "t = time.localtime()\n",
    "current_time = time.strftime(\"%H:%M:%S\", t)\n",
    "print(current_time)\n",
    "\n",
    "timeout=time.time()+(60*5)\n",
    "datas=[]\n",
    "times=[]\n",
    "while time.time()<timeout:\n",
    "    ser.close()\n",
    "    ser.open()\n",
    "    data=ser.readline(3)#[:-2]\n",
    "    if data:\n",
    "        currenttime=time.asctime(time.localtime(time.time()))\n",
    "        times.append(currenttime)\n",
    "        datas.append(data.decode())\n",
    "ser.close()\n",
    "\n",
    "t = time.localtime()\n",
    "current_time = time.strftime(\"%H:%M:%S\", t)\n",
    "print(current_time)"
   ]
  },
  {
   "cell_type": "code",
   "execution_count": 6,
   "metadata": {},
   "outputs": [
    {
     "name": "stdout",
     "output_type": "stream",
     "text": [
      "[('Mon May 25 14:14:17 2020', '572'), ('Mon May 25 14:14:18 2020', '573'), ('Mon May 25 14:14:20 2020', '522'), ('Mon May 25 14:14:22 2020', '573'), ('Mon May 25 14:14:24 2020', '573'), ('Mon May 25 14:14:25 2020', '432'), ('Mon May 25 14:14:27 2020', '411'), ('Mon May 25 14:14:29 2020', '410'), ('Mon May 25 14:14:30 2020', '335'), ('Mon May 25 14:14:32 2020', '334'), ('Mon May 25 14:14:34 2020', '334'), ('Mon May 25 14:14:36 2020', '333'), ('Mon May 25 14:14:37 2020', '333'), ('Mon May 25 14:14:39 2020', '333'), ('Mon May 25 14:14:41 2020', '333'), ('Mon May 25 14:14:42 2020', '333'), ('Mon May 25 14:14:44 2020', '333'), ('Mon May 25 14:14:46 2020', '332'), ('Mon May 25 14:14:48 2020', '333'), ('Mon May 25 14:14:49 2020', '333'), ('Mon May 25 14:14:51 2020', '333'), ('Mon May 25 14:14:53 2020', '333'), ('Mon May 25 14:14:54 2020', '333'), ('Mon May 25 14:14:56 2020', '332'), ('Mon May 25 14:14:58 2020', '333'), ('Mon May 25 14:15:00 2020', '337'), ('Mon May 25 14:15:01 2020', '386'), ('Mon May 25 14:15:03 2020', '560'), ('Mon May 25 14:15:05 2020', '566'), ('Mon May 25 14:15:06 2020', '569'), ('Mon May 25 14:15:08 2020', '568'), ('Mon May 25 14:15:10 2020', '566'), ('Mon May 25 14:15:12 2020', '564'), ('Mon May 25 14:15:13 2020', '564'), ('Mon May 25 14:15:15 2020', '565'), ('Mon May 25 14:15:17 2020', '565'), ('Mon May 25 14:15:18 2020', '564'), ('Mon May 25 14:15:20 2020', '565'), ('Mon May 25 14:15:22 2020', '564'), ('Mon May 25 14:15:24 2020', '565'), ('Mon May 25 14:15:25 2020', '565'), ('Mon May 25 14:15:27 2020', '565'), ('Mon May 25 14:15:29 2020', '565'), ('Mon May 25 14:15:31 2020', '565'), ('Mon May 25 14:15:32 2020', '565'), ('Mon May 25 14:15:34 2020', '566'), ('Mon May 25 14:15:36 2020', '565'), ('Mon May 25 14:15:37 2020', '565'), ('Mon May 25 14:15:39 2020', '566'), ('Mon May 25 14:15:41 2020', '566'), ('Mon May 25 14:15:43 2020', '566'), ('Mon May 25 14:15:44 2020', '566'), ('Mon May 25 14:15:46 2020', '566'), ('Mon May 25 14:15:48 2020', '566'), ('Mon May 25 14:15:49 2020', '566'), ('Mon May 25 14:15:51 2020', '566'), ('Mon May 25 14:15:53 2020', '566'), ('Mon May 25 14:15:55 2020', '566'), ('Mon May 25 14:15:56 2020', '567'), ('Mon May 25 14:15:58 2020', '567'), ('Mon May 25 14:16:00 2020', '567'), ('Mon May 25 14:16:01 2020', '567'), ('Mon May 25 14:16:03 2020', '567'), ('Mon May 25 14:16:05 2020', '567'), ('Mon May 25 14:16:07 2020', '567'), ('Mon May 25 14:16:08 2020', '567'), ('Mon May 25 14:16:10 2020', '567'), ('Mon May 25 14:16:12 2020', '567'), ('Mon May 25 14:16:13 2020', '567'), ('Mon May 25 14:16:15 2020', '567'), ('Mon May 25 14:16:17 2020', '567'), ('Mon May 25 14:16:19 2020', '567'), ('Mon May 25 14:16:20 2020', '567'), ('Mon May 25 14:16:22 2020', '567'), ('Mon May 25 14:16:24 2020', '567'), ('Mon May 25 14:16:25 2020', '567'), ('Mon May 25 14:16:27 2020', '567'), ('Mon May 25 14:16:29 2020', '568'), ('Mon May 25 14:16:31 2020', '568'), ('Mon May 25 14:16:32 2020', '568'), ('Mon May 25 14:16:34 2020', '567'), ('Mon May 25 14:16:36 2020', '568'), ('Mon May 25 14:16:37 2020', '568'), ('Mon May 25 14:16:39 2020', '568'), ('Mon May 25 14:16:41 2020', '568'), ('Mon May 25 14:16:43 2020', '568'), ('Mon May 25 14:16:44 2020', '568'), ('Mon May 25 14:16:46 2020', '568'), ('Mon May 25 14:16:48 2020', '568'), ('Mon May 25 14:16:49 2020', '568'), ('Mon May 25 14:16:51 2020', '568'), ('Mon May 25 14:16:53 2020', '568'), ('Mon May 25 14:16:55 2020', '568'), ('Mon May 25 14:16:56 2020', '568'), ('Mon May 25 14:16:58 2020', '568'), ('Mon May 25 14:17:00 2020', '568'), ('Mon May 25 14:17:01 2020', '568'), ('Mon May 25 14:17:03 2020', '567'), ('Mon May 25 14:17:05 2020', '568'), ('Mon May 25 14:17:07 2020', '567'), ('Mon May 25 14:17:08 2020', '568'), ('Mon May 25 14:17:10 2020', '568'), ('Mon May 25 14:17:12 2020', '568'), ('Mon May 25 14:17:13 2020', '568'), ('Mon May 25 14:17:15 2020', '568'), ('Mon May 25 14:17:17 2020', '568'), ('Mon May 25 14:17:19 2020', '568'), ('Mon May 25 14:17:20 2020', '569'), ('Mon May 25 14:17:22 2020', '568'), ('Mon May 25 14:17:24 2020', '568'), ('Mon May 25 14:17:25 2020', '568'), ('Mon May 25 14:17:27 2020', '568'), ('Mon May 25 14:17:29 2020', '568'), ('Mon May 25 14:17:31 2020', '568'), ('Mon May 25 14:17:32 2020', '568'), ('Mon May 25 14:17:34 2020', '568'), ('Mon May 25 14:17:36 2020', '568'), ('Mon May 25 14:17:38 2020', '568'), ('Mon May 25 14:17:39 2020', '568'), ('Mon May 25 14:17:41 2020', '569'), ('Mon May 25 14:17:43 2020', '568'), ('Mon May 25 14:17:44 2020', '569'), ('Mon May 25 14:17:46 2020', '568'), ('Mon May 25 14:17:48 2020', '568'), ('Mon May 25 14:17:50 2020', '568'), ('Mon May 25 14:17:51 2020', '568'), ('Mon May 25 14:17:53 2020', '568'), ('Mon May 25 14:17:55 2020', '568'), ('Mon May 25 14:17:56 2020', '568'), ('Mon May 25 14:17:58 2020', '568'), ('Mon May 25 14:18:00 2020', '569'), ('Mon May 25 14:18:02 2020', '568'), ('Mon May 25 14:18:03 2020', '568'), ('Mon May 25 14:18:05 2020', '568'), ('Mon May 25 14:18:07 2020', '568'), ('Mon May 25 14:18:08 2020', '568'), ('Mon May 25 14:18:10 2020', '568'), ('Mon May 25 14:18:12 2020', '569'), ('Mon May 25 14:18:14 2020', '568'), ('Mon May 25 14:18:15 2020', '569'), ('Mon May 25 14:18:17 2020', '568'), ('Mon May 25 14:18:19 2020', '568'), ('Mon May 25 14:18:20 2020', '568'), ('Mon May 25 14:18:22 2020', '568'), ('Mon May 25 14:18:24 2020', '568'), ('Mon May 25 14:18:26 2020', '568'), ('Mon May 25 14:18:27 2020', '568'), ('Mon May 25 14:18:29 2020', '568'), ('Mon May 25 14:18:31 2020', '568'), ('Mon May 25 14:18:32 2020', '568'), ('Mon May 25 14:18:34 2020', '568'), ('Mon May 25 14:18:36 2020', '568'), ('Mon May 25 14:18:38 2020', '568'), ('Mon May 25 14:18:39 2020', '568'), ('Mon May 25 14:18:41 2020', '569'), ('Mon May 25 14:18:43 2020', '568'), ('Mon May 25 14:18:44 2020', '568'), ('Mon May 25 14:18:46 2020', '568'), ('Mon May 25 14:18:48 2020', '568'), ('Mon May 25 14:18:50 2020', '568'), ('Mon May 25 14:18:51 2020', '568'), ('Mon May 25 14:18:53 2020', '568'), ('Mon May 25 14:18:55 2020', '568'), ('Mon May 25 14:18:56 2020', '568'), ('Mon May 25 14:18:58 2020', '568'), ('Mon May 25 14:19:00 2020', '568'), ('Mon May 25 14:19:02 2020', '568'), ('Mon May 25 14:19:03 2020', '568'), ('Mon May 25 14:19:05 2020', '569'), ('Mon May 25 14:19:07 2020', '568'), ('Mon May 25 14:19:08 2020', '568'), ('Mon May 25 14:19:10 2020', '568'), ('Mon May 25 14:19:12 2020', '568'), ('Mon May 25 14:19:14 2020', '568'), ('Mon May 25 14:19:15 2020', '568')]\n"
     ]
    }
   ],
   "source": [
    "# Prepare data for writing to file\n",
    "h=list(zip(times, datas))\n",
    "print(h)"
   ]
  },
  {
   "cell_type": "code",
   "execution_count": 7,
   "metadata": {},
   "outputs": [],
   "source": [
    "# Write data to CSV\n",
    "datafile=open('rawData/dunkVideo0525_1411.csv','a')\n",
    "datafile.write(\"\\n\".join([str(x).replace(')','').replace(\"'\",'').replace('(','') for x in h]))\n",
    "datafile.close()"
   ]
  },
  {
   "cell_type": "code",
   "execution_count": null,
   "metadata": {},
   "outputs": [],
   "source": [
    "\n"
   ]
  },
  {
   "cell_type": "code",
   "execution_count": null,
   "metadata": {},
   "outputs": [],
   "source": [
    "# Looking at the data\n",
    "import pandas as pd\n",
    "import matplotlib.pyplot as plt\n",
    "import matplotlib.dates as md"
   ]
  },
  {
   "cell_type": "code",
   "execution_count": null,
   "metadata": {},
   "outputs": [],
   "source": [
    "df=pd.read_csv('rawData/dunkAndRemoveDatawVideo1341.csv', delimiter=',', header=None)"
   ]
  },
  {
   "cell_type": "code",
   "execution_count": null,
   "metadata": {},
   "outputs": [],
   "source": [
    "df['datetime']=pd.to_datetime(df.loc[:,0])"
   ]
  },
  {
   "cell_type": "code",
   "execution_count": null,
   "metadata": {},
   "outputs": [],
   "source": [
    "# plt.plot(df.datetime, df.loc[:,1])\n",
    "\n",
    "# plt.xticks(rotation='vertical')\n",
    "# plt.xticks( rotation=25 )\n",
    "# ax=plt.gca()\n",
    "# xfmt = md.DateFormatter('%H:%M:%S')\n",
    "# ax.xaxis.set_major_formatter(xfmt)\n",
    "# plt.show()"
   ]
  },
  {
   "cell_type": "code",
   "execution_count": null,
   "metadata": {},
   "outputs": [],
   "source": []
  },
  {
   "cell_type": "code",
   "execution_count": null,
   "metadata": {},
   "outputs": [],
   "source": []
  },
  {
   "cell_type": "code",
   "execution_count": null,
   "metadata": {},
   "outputs": [],
   "source": []
  },
  {
   "cell_type": "code",
   "execution_count": null,
   "metadata": {},
   "outputs": [],
   "source": []
  },
  {
   "cell_type": "code",
   "execution_count": null,
   "metadata": {},
   "outputs": [],
   "source": []
  },
  {
   "cell_type": "code",
   "execution_count": null,
   "metadata": {},
   "outputs": [],
   "source": []
  },
  {
   "cell_type": "code",
   "execution_count": null,
   "metadata": {},
   "outputs": [],
   "source": []
  }
 ],
 "metadata": {
  "kernelspec": {
   "display_name": "Python 3",
   "language": "python",
   "name": "python3"
  },
  "language_info": {
   "codemirror_mode": {
    "name": "ipython",
    "version": 3
   },
   "file_extension": ".py",
   "mimetype": "text/x-python",
   "name": "python",
   "nbconvert_exporter": "python",
   "pygments_lexer": "ipython3",
   "version": "3.7.6"
  }
 },
 "nbformat": 4,
 "nbformat_minor": 4
}
