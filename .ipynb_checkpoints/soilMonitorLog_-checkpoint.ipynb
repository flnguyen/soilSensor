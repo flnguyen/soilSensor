{
 "cells": [
  {
   "cell_type": "code",
   "execution_count": 151,
   "metadata": {},
   "outputs": [],
   "source": [
    "import serial\n",
    "import usb.core\n",
    "import time\n",
    "\n",
    "import pandas as pd\n",
    "import matplotlib.pyplot as plt\n",
    "import matplotlib.dates as md\n",
    "#FLN\n",
    "vid=0x2341\n",
    "pid=0x0043\n",
    "SERIAL_RATE=115200"
   ]
  },
  {
   "cell_type": "code",
   "execution_count": 152,
   "metadata": {},
   "outputs": [],
   "source": [
    "# Objective\n",
    "# Connect to Arduino (set up with soil sensor)\n",
    "# Calibrate sensor by logging output data when:\n",
    "\n",
    "# Sensor dry\n",
    "# Sensor submerged"
   ]
  },
  {
   "cell_type": "code",
   "execution_count": 155,
   "metadata": {},
   "outputs": [
    {
     "name": "stdout",
     "output_type": "stream",
     "text": [
      "/dev/cu.usbmodem14301\n"
     ]
    }
   ],
   "source": [
    "# Get the path to the arduino serial port\n",
    "SERIAL_PORT=[port.device for port in serial.tools.list_ports.comports() if \"Arduino\" in str(port.manufacturer) ][0]\n",
    "print(SERIAL_PORT)"
   ]
  },
  {
   "cell_type": "code",
   "execution_count": 156,
   "metadata": {},
   "outputs": [],
   "source": [
    "# Connect to arduino\n",
    "ser=serial.Serial(SERIAL_PORT, \n",
    "                  SERIAL_RATE, \n",
    "                  timeout=3, \n",
    "                  stopbits=serial.STOPBITS_ONE, \n",
    "                  bytesize=serial.EIGHTBITS, \n",
    "                  xonxoff=0, rtscts=0)\n",
    "ser.close()"
   ]
  },
  {
   "cell_type": "code",
   "execution_count": 14,
   "metadata": {},
   "outputs": [
    {
     "ename": "NameError",
     "evalue": "name 'SERIAL_PORT' is not defined",
     "output_type": "error",
     "traceback": [
      "\u001b[0;31m---------------------------------------------------------------------------\u001b[0m",
      "\u001b[0;31mNameError\u001b[0m                                 Traceback (most recent call last)",
      "\u001b[0;32m<ipython-input-14-2dfd5b767a5b>\u001b[0m in \u001b[0;36m<module>\u001b[0;34m\u001b[0m\n\u001b[1;32m      1\u001b[0m \u001b[0;31m# Connect to ardunio\u001b[0m\u001b[0;34m\u001b[0m\u001b[0;34m\u001b[0m\u001b[0;34m\u001b[0m\u001b[0m\n\u001b[0;32m----> 2\u001b[0;31m ser=serial.Serial(SERIAL_PORT, \n\u001b[0m\u001b[1;32m      3\u001b[0m                   \u001b[0mSERIAL_RATE\u001b[0m\u001b[0;34m,\u001b[0m\u001b[0;34m\u001b[0m\u001b[0;34m\u001b[0m\u001b[0m\n\u001b[1;32m      4\u001b[0m                   \u001b[0mtimeout\u001b[0m\u001b[0;34m=\u001b[0m\u001b[0;36m3\u001b[0m\u001b[0;34m,\u001b[0m\u001b[0;34m\u001b[0m\u001b[0;34m\u001b[0m\u001b[0m\n\u001b[1;32m      5\u001b[0m                   \u001b[0mstopbits\u001b[0m\u001b[0;34m=\u001b[0m\u001b[0mserial\u001b[0m\u001b[0;34m.\u001b[0m\u001b[0mSTOPBITS_ONE\u001b[0m\u001b[0;34m,\u001b[0m\u001b[0;34m\u001b[0m\u001b[0;34m\u001b[0m\u001b[0m\n",
      "\u001b[0;31mNameError\u001b[0m: name 'SERIAL_PORT' is not defined"
     ]
    }
   ],
   "source": [
    "# Run and read data from sensor for 'timeout' seconds\n",
    "t = time.localtime()\n",
    "current_time = time.strftime(\"%H:%M:%S\", t)\n",
    "print(current_time)\n",
    "\n",
    "timeout=time.time()+(60*5)\n",
    "datas=[]\n",
    "times=[]\n",
    "while time.time()<timeout:\n",
    "    ser.close()\n",
    "    ser.open()\n",
    "    data=ser.readline(3)#[:-2]\n",
    "    if data:\n",
    "        currenttime=time.asctime(time.localtime(time.time()))\n",
    "        times.append(currenttime)\n",
    "        datas.append(data.decode())\n",
    "ser.close()\n",
    "\n",
    "t = time.localtime()\n",
    "current_time = time.strftime(\"%H:%M:%S\", t)\n",
    "print(current_time)"
   ]
  },
  {
   "cell_type": "code",
   "execution_count": null,
   "metadata": {},
   "outputs": [],
   "source": [
    "# Prepare data for writing to file\n",
    "h=list(zip(times, datas))\n",
    "print(h)"
   ]
  },
  {
   "cell_type": "code",
   "execution_count": null,
   "metadata": {},
   "outputs": [],
   "source": [
    "# Write data to CSV\n",
    "datafile=open('rawData/dunkVideo0525_1411.csv','a')\n",
    "datafile.write(\"\\n\".join([str(x).replace(')','').replace(\"'\",'').replace('(','') for x in h]))\n",
    "datafile.close()"
   ]
  },
  {
   "cell_type": "code",
   "execution_count": null,
   "metadata": {},
   "outputs": [],
   "source": []
  },
  {
   "cell_type": "code",
   "execution_count": null,
   "metadata": {},
   "outputs": [],
   "source": [
    "\n"
   ]
  },
  {
   "cell_type": "code",
   "execution_count": null,
   "metadata": {},
   "outputs": [],
   "source": [
    "# Looking at the data\n",
    "\n",
    "# import pandas as pd\n",
    "# import matplotlib.pyplot as plt\n",
    "# import matplotlib.dates as md"
   ]
  },
  {
   "cell_type": "code",
   "execution_count": null,
   "metadata": {},
   "outputs": [],
   "source": [
    "# df=pd.read_csv('rawData/dunkAndRemoveDatawVideo1341.csv', delimiter=',', header=None)\n",
    "# df['datetime']=pd.to_datetime(df.loc[:,0])"
   ]
  },
  {
   "cell_type": "code",
   "execution_count": null,
   "metadata": {},
   "outputs": [],
   "source": [
    "# plt.plot(df.datetime, df.loc[:,1])\n",
    "\n",
    "# plt.xticks(rotation='vertical')\n",
    "# plt.xticks( rotation=25 )\n",
    "# ax=plt.gca()\n",
    "# xfmt = md.DateFormatter('%H:%M:%S')\n",
    "# ax.xaxis.set_major_formatter(xfmt)\n",
    "# plt.show()"
   ]
  },
  {
   "cell_type": "code",
   "execution_count": null,
   "metadata": {},
   "outputs": [],
   "source": []
  },
  {
   "cell_type": "code",
   "execution_count": null,
   "metadata": {},
   "outputs": [],
   "source": []
  },
  {
   "cell_type": "code",
   "execution_count": null,
   "metadata": {},
   "outputs": [],
   "source": []
  },
  {
   "cell_type": "code",
   "execution_count": null,
   "metadata": {},
   "outputs": [],
   "source": []
  },
  {
   "cell_type": "code",
   "execution_count": null,
   "metadata": {},
   "outputs": [],
   "source": []
  },
  {
   "cell_type": "code",
   "execution_count": null,
   "metadata": {},
   "outputs": [],
   "source": []
  },
  {
   "cell_type": "code",
   "execution_count": null,
   "metadata": {},
   "outputs": [],
   "source": []
  },
  {
   "cell_type": "code",
   "execution_count": null,
   "metadata": {},
   "outputs": [],
   "source": []
  }
 ],
 "metadata": {
  "kernelspec": {
   "display_name": "Python 3",
   "language": "python",
   "name": "python3"
  },
  "language_info": {
   "codemirror_mode": {
    "name": "ipython",
    "version": 3
   },
   "file_extension": ".py",
   "mimetype": "text/x-python",
   "name": "python",
   "nbconvert_exporter": "python",
   "pygments_lexer": "ipython3",
   "version": "3.7.6"
  }
 },
 "nbformat": 4,
 "nbformat_minor": 4
}
